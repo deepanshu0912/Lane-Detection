{
 "cells": [
  {
   "cell_type": "code",
   "execution_count": 3,
   "metadata": {},
   "outputs": [],
   "source": [
    "from PIL import Image\n",
    "import numpy as np"
   ]
  },
  {
   "cell_type": "code",
   "execution_count": 10,
   "metadata": {},
   "outputs": [],
   "source": [
    "path = \"C:/Users/azhar/OneDrive/Desktop/DL lab/data/lane detection/tusimple_preprocessed_color/training/frames/0313-1_60.jpg\"\n",
    "\n",
    "image_pil = Image.open(path)"
   ]
  },
  {
   "cell_type": "code",
   "execution_count": 11,
   "metadata": {},
   "outputs": [
    {
     "name": "stdout",
     "output_type": "stream",
     "text": [
      "<class 'numpy.ndarray'>\n"
     ]
    }
   ],
   "source": [
    "img = np.array(image_pil)\n",
    "print(type(img))"
   ]
  },
  {
   "cell_type": "code",
   "execution_count": 12,
   "metadata": {},
   "outputs": [],
   "source": [
    "resized_image =img.resize((240, 160,3))"
   ]
  },
  {
   "cell_type": "code",
   "execution_count": 13,
   "metadata": {},
   "outputs": [
    {
     "name": "stdout",
     "output_type": "stream",
     "text": [
      "(240, 160, 3)\n"
     ]
    }
   ],
   "source": [
    "print(img.shape)"
   ]
  },
  {
   "cell_type": "code",
   "execution_count": 7,
   "metadata": {},
   "outputs": [
    {
     "ename": "OSError",
     "evalue": "[WinError 1455] The paging file is too small for this operation to complete. Error loading \"c:\\Users\\azhar\\AppData\\Local\\Programs\\Python\\Python310\\lib\\site-packages\\torch\\lib\\cufft64_10.dll\" or one of its dependencies.",
     "output_type": "error",
     "traceback": [
      "\u001b[1;31m---------------------------------------------------------------------------\u001b[0m",
      "\u001b[1;31mOSError\u001b[0m                                   Traceback (most recent call last)",
      "Cell \u001b[1;32mIn[7], line 2\u001b[0m\n\u001b[0;32m      1\u001b[0m \u001b[38;5;28;01mimport\u001b[39;00m \u001b[38;5;21;01malbumentations\u001b[39;00m \u001b[38;5;28;01mas\u001b[39;00m \u001b[38;5;21;01mA\u001b[39;00m\n\u001b[1;32m----> 2\u001b[0m \u001b[38;5;28;01mfrom\u001b[39;00m \u001b[38;5;21;01malbumentations\u001b[39;00m\u001b[38;5;21;01m.\u001b[39;00m\u001b[38;5;21;01mpytorch\u001b[39;00m \u001b[38;5;28;01mimport\u001b[39;00m ToTensorV2\n\u001b[0;32m      3\u001b[0m train_transform \u001b[38;5;241m=\u001b[39m A\u001b[38;5;241m.\u001b[39mCompose(\n\u001b[0;32m      4\u001b[0m     [\n\u001b[0;32m      5\u001b[0m         A\u001b[38;5;241m.\u001b[39mResize(height\u001b[38;5;241m=\u001b[39m\u001b[38;5;241m140\u001b[39m, width\u001b[38;5;241m=\u001b[39m\u001b[38;5;241m240\u001b[39m),\n\u001b[1;32m   (...)\u001b[0m\n\u001b[0;32m     15\u001b[0m     ],\n\u001b[0;32m     16\u001b[0m )\n\u001b[0;32m     18\u001b[0m img\u001b[38;5;241m=\u001b[39mtrain_transform(img)\n",
      "File \u001b[1;32mc:\\Users\\azhar\\AppData\\Local\\Programs\\Python\\Python310\\lib\\site-packages\\albumentations\\pytorch\\__init__.py:1\u001b[0m\n\u001b[1;32m----> 1\u001b[0m \u001b[38;5;28;01mfrom\u001b[39;00m \u001b[38;5;21;01m.\u001b[39;00m\u001b[38;5;21;01mtransforms\u001b[39;00m \u001b[38;5;28;01mimport\u001b[39;00m \u001b[38;5;241m*\u001b[39m\n",
      "File \u001b[1;32mc:\\Users\\azhar\\AppData\\Local\\Programs\\Python\\Python310\\lib\\site-packages\\albumentations\\pytorch\\transforms.py:4\u001b[0m\n\u001b[0;32m      1\u001b[0m \u001b[38;5;28;01mfrom\u001b[39;00m \u001b[38;5;21;01mtyping\u001b[39;00m \u001b[38;5;28;01mimport\u001b[39;00m Any, Dict, List, Tuple\n\u001b[0;32m      3\u001b[0m \u001b[38;5;28;01mimport\u001b[39;00m \u001b[38;5;21;01mnumpy\u001b[39;00m \u001b[38;5;28;01mas\u001b[39;00m \u001b[38;5;21;01mnp\u001b[39;00m\n\u001b[1;32m----> 4\u001b[0m \u001b[38;5;28;01mimport\u001b[39;00m \u001b[38;5;21;01mtorch\u001b[39;00m\n\u001b[0;32m      6\u001b[0m \u001b[38;5;28;01mfrom\u001b[39;00m \u001b[38;5;21;01malbumentations\u001b[39;00m\u001b[38;5;21;01m.\u001b[39;00m\u001b[38;5;21;01mcore\u001b[39;00m\u001b[38;5;21;01m.\u001b[39;00m\u001b[38;5;21;01mtransforms_interface\u001b[39;00m \u001b[38;5;28;01mimport\u001b[39;00m BasicTransform\n\u001b[0;32m      8\u001b[0m __all__ \u001b[38;5;241m=\u001b[39m [\u001b[38;5;124m\"\u001b[39m\u001b[38;5;124mToTensorV2\u001b[39m\u001b[38;5;124m\"\u001b[39m]\n",
      "File \u001b[1;32mc:\\Users\\azhar\\AppData\\Local\\Programs\\Python\\Python310\\lib\\site-packages\\torch\\__init__.py:122\u001b[0m\n\u001b[0;32m    120\u001b[0m     err = ctypes.WinError(last_error)\n\u001b[0;32m    121\u001b[0m     err.strerror += f' Error loading \"{dll}\" or one of its dependencies.'\n\u001b[1;32m--> 122\u001b[0m     raise err\n\u001b[0;32m    123\u001b[0m elif res is not None:\n\u001b[0;32m    124\u001b[0m     is_loaded = True\n",
      "\u001b[1;31mOSError\u001b[0m: [WinError 1455] The paging file is too small for this operation to complete. Error loading \"c:\\Users\\azhar\\AppData\\Local\\Programs\\Python\\Python310\\lib\\site-packages\\torch\\lib\\cufft64_10.dll\" or one of its dependencies."
     ]
    }
   ],
   "source": [
    "import albumentations as A\n",
    "from albumentations.pytorch import ToTensorV2\n",
    "train_transform = A.Compose(\n",
    "    [\n",
    "        A.Resize(height=140, width=240),\n",
    "        # A.Rotate(limit=35, p=1.0),\n",
    "        # A.HorizontalFlip(p=0.5),\n",
    "        # A.VerticalFlip(p=0.1),\n",
    "        A.Normalize(\n",
    "            mean=[0.0, 0.0, 0.0],\n",
    "            std=[1.0, 1.0, 1.0],\n",
    "            max_pixel_value=255.0,\n",
    "        ),\n",
    "        ToTensorV2(),\n",
    "    ],\n",
    ")\n",
    "\n",
    "img=train_transform(img)"
   ]
  },
  {
   "cell_type": "code",
   "execution_count": 14,
   "metadata": {},
   "outputs": [
    {
     "ename": "KeyError",
     "evalue": "'model'",
     "output_type": "error",
     "traceback": [
      "\u001b[1;31m---------------------------------------------------------------------------\u001b[0m",
      "\u001b[1;31mKeyError\u001b[0m                                  Traceback (most recent call last)",
      "Cell \u001b[1;32mIn[14], line 6\u001b[0m\n\u001b[0;32m      4\u001b[0m model_path \u001b[38;5;241m=\u001b[39m \u001b[38;5;124m\"\u001b[39m\u001b[38;5;124mC:/Users/azhar/Downloads/25epochv1.tar\u001b[39m\u001b[38;5;124m\"\u001b[39m\n\u001b[0;32m      5\u001b[0m checkpoint \u001b[38;5;241m=\u001b[39m torch\u001b[38;5;241m.\u001b[39mload(model_path)\n\u001b[1;32m----> 6\u001b[0m model \u001b[38;5;241m=\u001b[39m \u001b[43mcheckpoint\u001b[49m\u001b[43m[\u001b[49m\u001b[38;5;124;43m'\u001b[39;49m\u001b[38;5;124;43mmodel\u001b[39;49m\u001b[38;5;124;43m'\u001b[39;49m\u001b[43m]\u001b[49m\n\u001b[0;32m      8\u001b[0m \u001b[38;5;66;03m# Set the model to evaluation mode\u001b[39;00m\n\u001b[0;32m      9\u001b[0m model\u001b[38;5;241m.\u001b[39meval()\n",
      "\u001b[1;31mKeyError\u001b[0m: 'model'"
     ]
    }
   ],
   "source": [
    "import torch\n",
    "\n",
    "# Load the model from the .tar file\n",
    "model_path = \"C:/Users/azhar/Downloads/25epochv1.tar\"\n",
    "checkpoint = torch.load(model_path)\n",
    "model = checkpoint['model']\n",
    "\n",
    "# Set the model to evaluation mode\n",
    "model.eval()\n",
    "\n",
    "# Perform inference\n",
    "# Example: Pass input data through the model\n",
    "input_data = torch.randn(1, 3, 224, 224)  # Example input data (adjust shape and values as needed)\n",
    "with torch.no_grad():\n",
    "    output = model(img)\n",
    "\n",
    "# Process the output as needed\n",
    "# Example: Convert output to probabilities, extract predictions, etc.\n"
   ]
  },
  {
   "cell_type": "code",
   "execution_count": 15,
   "metadata": {},
   "outputs": [
    {
     "name": "stdout",
     "output_type": "stream",
     "text": [
      "dict_keys(['state_dict', 'optimizer'])\n"
     ]
    },
    {
     "ename": "KeyError",
     "evalue": "'model_state_dict'",
     "output_type": "error",
     "traceback": [
      "\u001b[1;31m---------------------------------------------------------------------------\u001b[0m",
      "\u001b[1;31mKeyError\u001b[0m                                  Traceback (most recent call last)",
      "Cell \u001b[1;32mIn[15], line 12\u001b[0m\n\u001b[0;32m      8\u001b[0m \u001b[38;5;28mprint\u001b[39m(checkpoint\u001b[38;5;241m.\u001b[39mkeys())\n\u001b[0;32m     10\u001b[0m \u001b[38;5;66;03m# Find the correct key for the model\u001b[39;00m\n\u001b[0;32m     11\u001b[0m \u001b[38;5;66;03m# Then, use that key to access the model's state dictionary\u001b[39;00m\n\u001b[1;32m---> 12\u001b[0m model_state_dict \u001b[38;5;241m=\u001b[39m \u001b[43mcheckpoint\u001b[49m\u001b[43m[\u001b[49m\u001b[38;5;124;43m'\u001b[39;49m\u001b[38;5;124;43mmodel_state_dict\u001b[39;49m\u001b[38;5;124;43m'\u001b[39;49m\u001b[43m]\u001b[49m  \u001b[38;5;66;03m# Adjust the key as needed\u001b[39;00m\n\u001b[0;32m     14\u001b[0m \u001b[38;5;66;03m# Create an instance of the model\u001b[39;00m\n\u001b[0;32m     15\u001b[0m \u001b[38;5;66;03m# Replace 'YourModelClass' with the actual class of your model\u001b[39;00m\n\u001b[0;32m     16\u001b[0m model \u001b[38;5;241m=\u001b[39m YourModelClass()\n",
      "\u001b[1;31mKeyError\u001b[0m: 'model_state_dict'"
     ]
    }
   ],
   "source": [
    "import torch\n",
    "\n",
    "# Load the model from the .tar file\n",
    "model_path = \"C:/Users/azhar/Downloads/25epochv1.tar\"\n",
    "checkpoint = torch.load(model_path)\n",
    "\n",
    "# Check the keys in the loaded checkpoint\n",
    "print(checkpoint.keys())\n",
    "\n",
    "# Find the correct key for the model\n",
    "# Then, use that key to access the model's state dictionary\n",
    "model_state_dict = checkpoint['model_state_dict']  # Adjust the key as needed\n",
    "\n",
    "# Create an instance of the model\n",
    "# Replace 'YourModelClass' with the actual class of your model\n",
    "model = YourModelClass()\n",
    "\n",
    "# Load the model's state dictionary\n",
    "model.load_state_dict(model_state_dict)\n",
    "\n",
    "# Set the model to evaluation mode\n",
    "model.eval()\n",
    "\n",
    "# Perform inference\n",
    "# Example: Pass input data through the model\n",
    "input_data = torch.randn(1, 3, 224, 224)  # Example input data (adjust shape and values as needed)\n",
    "with torch.no_grad():\n",
    "    output = model(img)\n",
    "\n",
    "# Process the output as needed\n",
    "# Example: Convert output to probabilities, extract predictions, etc.\n"
   ]
  },
  {
   "cell_type": "code",
   "execution_count": null,
   "metadata": {},
   "outputs": [],
   "source": []
  }
 ],
 "metadata": {
  "kernelspec": {
   "display_name": "Python 3",
   "language": "python",
   "name": "python3"
  },
  "language_info": {
   "codemirror_mode": {
    "name": "ipython",
    "version": 3
   },
   "file_extension": ".py",
   "mimetype": "text/x-python",
   "name": "python",
   "nbconvert_exporter": "python",
   "pygments_lexer": "ipython3",
   "version": "3.10.7"
  }
 },
 "nbformat": 4,
 "nbformat_minor": 2
}
