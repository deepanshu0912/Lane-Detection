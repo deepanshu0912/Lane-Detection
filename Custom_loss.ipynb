{
 "cells": [
  {
   "cell_type": "code",
   "execution_count": 2,
   "metadata": {},
   "outputs": [],
   "source": [
    "import numpy as np\n",
    "from PIL import Image\n",
    "import matplotlib.pyplot as plt\n",
    "import torch.nn as nn\n",
    "import cv2"
   ]
  },
  {
   "cell_type": "code",
   "execution_count": 10,
   "metadata": {},
   "outputs": [],
   "source": [
    "class CustomLoss(nn.Module):\n",
    "    def __init__(self,alpha):\n",
    "        super().__init__()\n",
    "        self.alpha=alpha\n",
    "        \n",
    "    def calculate_distance(self,point1, point2):\n",
    "        return np.sqrt((point1[0] - point2[0]) ** 2 + (point1[1] - point2[1]) ** 2)\n",
    "    \n",
    "    def divide_into_lanes(self,image):\n",
    "    # Function to create a folder if it doesn't exist\n",
    "\n",
    "        # Resize the image to a smaller resolution\n",
    "        resized_image = cv2.resize(image, (0, 0), fx=0.5, fy=0.5)\n",
    "\n",
    "        # Convert to grayscale\n",
    "        gray = cv2.cvtColor(resized_image, cv2.COLOR_BGR2GRAY)\n",
    "\n",
    "        # Perform edge detection\n",
    "        edges = cv2.Canny(gray, 50, 150)\n",
    "\n",
    "        # Find contours in the edge-detected image\n",
    "        contours, _ = cv2.findContours(edges, cv2.RETR_EXTERNAL, cv2.CHAIN_APPROX_SIMPLE)\n",
    "\n",
    "        # Count the number of contours\n",
    "        num_contours = len(contours)\n",
    "\n",
    "        print(\"Number of contours detected:\", num_contours)\n",
    "\n",
    "        # Create a list to store lane images\n",
    "        lane_images = []\n",
    "\n",
    "        # Define your color scheme\n",
    "        colors = [(255, 255, 255), (0, 255, 255), (255, 0, 0), (0, 255, 0),(0, 0, 255)]  # Red, Green, Blue, Yellow, White\n",
    "\n",
    "        # Iterate through the contours\n",
    "        for i, contour in enumerate(contours):\n",
    "            # Filter out contours based on area\n",
    "            area = cv2.contourArea(contour)\n",
    "            if area < 1000:  # Adjust the threshold as needed\n",
    "                continue\n",
    "\n",
    "            # Create a blank image to draw the filled contour\n",
    "            filled_lane = np.zeros_like(resized_image)\n",
    "\n",
    "            # Draw filled contour with a specific color from the color scheme\n",
    "            cv2.fillPoly(filled_lane, [contour], colors[i % len(colors)])\n",
    "\n",
    "            # Append the filled lane image to the list\n",
    "            lane_images.append(filled_lane)\n",
    "\n",
    "        return lane_images\n",
    "    \n",
    "    def calculate_lane_distance(self,lane1, lane2):\n",
    "        \n",
    "        gray1 = cv2.cvtColor(lane1, cv2.COLOR_BGR2GRAY)\n",
    "        gray2 = cv2.cvtColor(lane2, cv2.COLOR_BGR2GRAY)\n",
    "        _, binary1 = cv2.threshold(gray1, 10, 255, cv2.THRESH_BINARY)\n",
    "        _, binary2 = cv2.threshold(gray2, 10, 255, cv2.THRESH_BINARY)\n",
    "        \n",
    "        \n",
    "        white_pixels1 = np.column_stack(np.where(binary1 != 0))\n",
    "        white_pixels2 = np.column_stack(np.where(binary2 != 0))\n",
    "        total_distance = 0\n",
    "        num_pairs = 0\n",
    "\n",
    "        for pixel1 in white_pixels1:\n",
    "            min_distance = float('inf')\n",
    "            for pixel2 in white_pixels2:\n",
    "                distance = self.calculate_distance(pixel1, pixel2)\n",
    "                if distance < min_distance:\n",
    "                    min_distance = distance\n",
    "            total_distance += min_distance\n",
    "            num_pairs += 1\n",
    "        \n",
    "        # Calculate average distance\n",
    "        if num_pairs > 0:\n",
    "            average_distance = total_distance / num_pairs\n",
    "        else:\n",
    "            average_distance = float('inf')\n",
    "        \n",
    "        return average_distance\n",
    "    \n",
    "    def lossFun(self,pred,GT):\n",
    "        Pre_lanes= self.divide_into_lanes(pred)\n",
    "        GT_lanes= self.divide_into_lanes(GT)\n",
    "        \n",
    "        loss=0\n",
    "        \n",
    "        for i in range(len(GT_lanes)):\n",
    "            loss+=self.calculate_lane_distance(GT_lanes[i], Pre_lanes[i])\n",
    "            \n",
    "        return loss\n",
    "    \n",
    "    def forward(self,pred,gt):\n",
    "        \n",
    "        res = self.lossFun(pred,gt)\n",
    "        \n",
    "        return self.alpha*res\n",
    "    \n",
    "    \n",
    "        \n",
    "        \n",
    "    \n",
    "    \n",
    "    "
   ]
  },
  {
   "cell_type": "code",
   "execution_count": 11,
   "metadata": {},
   "outputs": [
    {
     "data": {
      "text/plain": [
       "<matplotlib.image.AxesImage at 0x1698d4b80>"
      ]
     },
     "execution_count": 11,
     "metadata": {},
     "output_type": "execute_result"
    },
    {
     "data": {
      "image/png": "[encoded data removed]",
      "text/plain": [
       "<Figure size 640x480 with 2 Axes>"
      ]
     },
     "metadata": {},
     "output_type": "display_data"
    }
   ],
   "source": [
    "path1=\"/Users/deepanshubissu/Desktop/DL_Project/Colouring Lanes/tusimple_preprocessed/training/lane-masks/0313-1_60.jpg\"\n",
    "path2=\"/Users/deepanshubissu/Desktop/DL_Project/Colouring Lanes/tusimple_preprocessed/training/lane-masks/0601_1495492704577874815.jpg\"\n",
    "img1= cv2.imread(path1)\n",
    "img2= cv2.imread(path2)\n",
    "\n",
    "plt.subplot(1,2,1)\n",
    "plt.title(\"image1\")\n",
    "plt.imshow(img1)\n",
    "plt.subplot(1,2,2)\n",
    "plt.title(\"image2\")\n",
    "plt.imshow(img2)\n",
    "\n"
   ]
  },
  {
   "cell_type": "code",
   "execution_count": 12,
   "metadata": {},
   "outputs": [
    {
     "name": "stdout",
     "output_type": "stream",
     "text": [
      "Number of contours detected: 3\n",
      "Number of contours detected: 4\n",
      "56.14473587772026\n"
     ]
    }
   ],
   "source": [
    "loss = CustomLoss(alpha=0.5)\n",
    "print(loss(img1,img2))"
   ]
  },
  {
   "cell_type": "code",
   "execution_count": 13,
   "metadata": {},
   "outputs": [
    {
     "name": "stdout",
     "output_type": "stream",
     "text": [
      "Number of contours detected: 3\n",
      "Number of contours detected: 3\n",
      "0.0\n"
     ]
    }
   ],
   "source": [
    "loss = CustomLoss(alpha=0.6)\n",
    "print(loss(img1,img1))"
   ]
  }
 ],
 "metadata": {
  "kernelspec": {
   "display_name": "Python 3",
   "language": "python",
   "name": "python3"
  },
  "language_info": {
   "codemirror_mode": {
    "name": "ipython",
    "version": 3
   },
   "file_extension": ".py",
   "mimetype": "text/x-python",
   "name": "python",
   "nbconvert_exporter": "python",
   "pygments_lexer": "ipython3",
   "version": "3.9.6"
  }
 },
 "nbformat": 4,
 "nbformat_minor": 2
}
